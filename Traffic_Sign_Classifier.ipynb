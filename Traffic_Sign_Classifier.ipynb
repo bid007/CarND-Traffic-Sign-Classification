{
 "cells": [
  {
   "cell_type": "markdown",
   "metadata": {},
   "source": [
    "# Self-Driving Car Engineer Nanodegree\n",
    "\n",
    "## Deep Learning\n",
    "\n",
    "## Project: Build a Traffic Sign Recognition Classifier\n",
    "\n",
    "In this notebook, a template is provided for you to implement your functionality in stages, which is required to successfully complete this project. If additional code is required that cannot be included in the notebook, be sure that the Python code is successfully imported and included in your submission if necessary. \n",
    "\n",
    "> **Note**: Once you have completed all of the code implementations, you need to finalize your work by exporting the iPython Notebook as an HTML document. Before exporting the notebook to html, all of the code cells need to have been run so that reviewers can see the final implementation and output. You can then export the notebook by using the menu above and navigating to  \\n\",\n",
    "    \"**File -> Download as -> HTML (.html)**. Include the finished document along with this notebook as your submission. \n",
    "\n",
    "In addition to implementing code, there is a writeup to complete. The writeup should be completed in a separate file, which can be either a markdown file or a pdf document. There is a [write up template](https://github.com/udacity/CarND-Traffic-Sign-Classifier-Project/blob/master/writeup_template.md) that can be used to guide the writing process. Completing the code template and writeup template will cover all of the [rubric points](https://review.udacity.com/#!/rubrics/481/view) for this project.\n",
    "\n",
    "The [rubric](https://review.udacity.com/#!/rubrics/481/view) contains \"Stand Out Suggestions\" for enhancing the project beyond the minimum requirements. The stand out suggestions are optional. If you decide to pursue the \"stand out suggestions\", you can include the code in this Ipython notebook and also discuss the results in the writeup file.\n",
    "\n",
    "\n",
    ">**Note:** Code and Markdown cells can be executed using the **Shift + Enter** keyboard shortcut. In addition, Markdown cells can be edited by typically double-clicking the cell to enter edit mode."
   ]
  },
  {
   "cell_type": "markdown",
   "metadata": {},
   "source": [
    "---\n",
    "## Step 0: Load The Data"
   ]
  },
  {
   "cell_type": "code",
   "execution_count": 1,
   "metadata": {
    "collapsed": false
   },
   "outputs": [],
   "source": [
    "# Load pickled data\n",
    "import pickle\n",
    "\n",
    "# TODO: Fill this in based on where you saved the training and testing data\n",
    "\n",
    "training_file = \"data/train.p\"\n",
    "validation_file= \"data/valid.p\"\n",
    "testing_file = \"data/test.p\"\n",
    "\n",
    "with open(training_file, mode='rb') as f:\n",
    "    train = pickle.load(f)\n",
    "with open(validation_file, mode='rb') as f:\n",
    "    valid = pickle.load(f)\n",
    "with open(testing_file, mode='rb') as f:\n",
    "    test = pickle.load(f)\n",
    "    \n",
    "X_train, y_train = train['features'], train['labels']\n",
    "X_validation, y_validation = valid['features'], valid['labels']\n",
    "X_test, y_test = test['features'], test['labels']"
   ]
  },
  {
   "cell_type": "markdown",
   "metadata": {},
   "source": [
    "---\n",
    "\n",
    "## Step 1: Dataset Summary & Exploration\n",
    "\n",
    "The pickled data is a dictionary with 4 key/value pairs:\n",
    "\n",
    "- `'features'` is a 4D array containing raw pixel data of the traffic sign images, (num examples, width, height, channels).\n",
    "- `'labels'` is a 1D array containing the label/class id of the traffic sign. The file `signnames.csv` contains id -> name mappings for each id.\n",
    "- `'sizes'` is a list containing tuples, (width, height) representing the original width and height the image.\n",
    "- `'coords'` is a list containing tuples, (x1, y1, x2, y2) representing coordinates of a bounding box around the sign in the image. **THESE COORDINATES ASSUME THE ORIGINAL IMAGE. THE PICKLED DATA CONTAINS RESIZED VERSIONS (32 by 32) OF THESE IMAGES**\n",
    "\n",
    "Complete the basic data summary below. Use python, numpy and/or pandas methods to calculate the data summary rather than hard coding the results. For example, the [pandas shape method](http://pandas.pydata.org/pandas-docs/stable/generated/pandas.DataFrame.shape.html) might be useful for calculating some of the summary results. "
   ]
  },
  {
   "cell_type": "markdown",
   "metadata": {},
   "source": [
    "### Provide a Basic Summary of the Data Set Using Python, Numpy and/or Pandas"
   ]
  },
  {
   "cell_type": "code",
   "execution_count": 2,
   "metadata": {
    "collapsed": false
   },
   "outputs": [
    {
     "name": "stdout",
     "output_type": "stream",
     "text": [
      "Number of training examples = 34799\n",
      "Number of testing examples = 12630\n",
      "Image data shape = (32, 32, 3)\n",
      "Number of classes = 43\n"
     ]
    }
   ],
   "source": [
    "### Replace each question mark with the appropriate value. \n",
    "### Use python, pandas or numpy methods rather than hard coding the results\n",
    "import numpy as np\n",
    "\n",
    "# TODO: Number of training examples\n",
    "n_train = len(X_train)\n",
    "\n",
    "# TODO: Number of testing examples.\n",
    "n_test = len(X_test)\n",
    "\n",
    "# TODO: What's the shape of an traffic sign image?\n",
    "image_shape = np.shape(X_train[0])\n",
    "\n",
    "# TODO: How many unique classes/labels there are in the dataset.\n",
    "n_classes = len(np.unique(y_train))\n",
    "\n",
    "print(\"Number of training examples =\", n_train)\n",
    "print(\"Number of testing examples =\", n_test)\n",
    "print(\"Image data shape =\", image_shape)\n",
    "print(\"Number of classes =\", n_classes)"
   ]
  },
  {
   "cell_type": "markdown",
   "metadata": {},
   "source": [
    "### Include an exploratory visualization of the dataset"
   ]
  },
  {
   "cell_type": "markdown",
   "metadata": {},
   "source": [
    "Visualize the German Traffic Signs Dataset using the pickled file(s). This is open ended, suggestions include: plotting traffic sign images, plotting the count of each sign, etc.\n",
    "\n",
    "The [Matplotlib](http://matplotlib.org/) [examples](http://matplotlib.org/examples/index.html) and [gallery](http://matplotlib.org/gallery.html) pages are a great resource for doing visualizations in Python.\n",
    "\n",
    "**NOTE:** It's recommended you start with something simple first. If you wish to do more, come back to it after you've completed the rest of the sections."
   ]
  },
  {
   "cell_type": "code",
   "execution_count": 3,
   "metadata": {
    "collapsed": false
   },
   "outputs": [
    {
     "name": "stderr",
     "output_type": "stream",
     "text": [
      "/home/carnd/anaconda3/envs/carnd-term1/lib/python3.5/site-packages/matplotlib/font_manager.py:280: UserWarning: Matplotlib is building the font cache using fc-list. This may take a moment.\n",
      "  'Matplotlib is building the font cache using fc-list. '\n"
     ]
    },
    {
     "name": "stdout",
     "output_type": "stream",
     "text": [
      "Visualizing some of the image data\n"
     ]
    },
    {
     "data": {
      "image/png": "[encoded data removed]",
      "text/plain": [
       "<matplotlib.figure.Figure at 0x7fb2971da588>"
      ]
     },
     "metadata": {},
     "output_type": "display_data"
    },
    {
     "name": "stdout",
     "output_type": "stream",
     "text": [
      "Distribution of Training data\n"
     ]
    },
    {
     "data": {
      "image/png": "[encoded data removed]",
      "text/plain": [
       "<matplotlib.figure.Figure at 0x7fb28dae72e8>"
      ]
     },
     "metadata": {},
     "output_type": "display_data"
    }
   ],
   "source": [
    "### Data exploration visualization code goes here.\n",
    "### Feel free to use as many code cells as needed.\n",
    "import matplotlib.pyplot as plt\n",
    "from random import randint\n",
    "from mpl_toolkits.axes_grid1 import ImageGrid\n",
    "\n",
    "#Loading the csv file of signnames\n",
    "import csv\n",
    "signs_name = {}\n",
    "with open('signnames.csv') as csvfile:\n",
    "    reader = csv.DictReader(csvfile)\n",
    "    for row in reader:\n",
    "        signs_name[int(row['ClassId'])] = row['SignName']\n",
    "\n",
    "\n",
    "# Visualizations will be shown in the notebook.\n",
    "%matplotlib inline\n",
    "print(\"Visualizing some of the image data\")\n",
    "fig = plt.figure(figsize=(6,6))\n",
    "grid = ImageGrid(fig, 111,  # similar to subplot(111)\n",
    "                 nrows_ncols=(3, 3),  # creates 2x2 grid of axes\n",
    "                 axes_pad=0.5,  # pad between axes in inch.\n",
    "                )\n",
    "\n",
    "random_img_indexes = []\n",
    "for i in range(9):\n",
    "    index = randint(0, n_train)\n",
    "    random_img_indexes.append(index)\n",
    "    grid[i].imshow(X_train[index].squeeze(), cmap=\"gray\")  # The AxesGrid object work as a list of axes.\n",
    "    title = signs_name[y_train[index]]\n",
    "    grid[i].set_title(title, fontsize=6)\n",
    "plt.show()\n",
    "\n",
    "n_classes, counts = np.unique(y_train, return_counts=True)\n",
    "print(\"Distribution of Training data\")\n",
    "plt.bar(n_classes, counts)\n",
    "plt.title(\"Number of training data for each class\")\n",
    "plt.xlabel(\"Classes\")\n",
    "plt.ylabel(\"Number of Training examples\")\n",
    "plt.show()"
   ]
  },
  {
   "cell_type": "markdown",
   "metadata": {},
   "source": [
    "----\n",
    "\n",
    "## Step 2: Design and Test a Model Architecture\n",
    "\n",
    "Design and implement a deep learning model that learns to recognize traffic signs. Train and test your model on the [German Traffic Sign Dataset](http://benchmark.ini.rub.de/?section=gtsrb&subsection=dataset).\n",
    "\n",
    "The LeNet-5 implementation shown in the [classroom](https://classroom.udacity.com/nanodegrees/nd013/parts/fbf77062-5703-404e-b60c-95b78b2f3f9e/modules/6df7ae49-c61c-4bb2-a23e-6527e69209ec/lessons/601ae704-1035-4287-8b11-e2c2716217ad/concepts/d4aca031-508f-4e0b-b493-e7b706120f81) at the end of the CNN lesson is a solid starting point. You'll have to change the number of classes and possibly the preprocessing, but aside from that it's plug and play! \n",
    "\n",
    "With the LeNet-5 solution from the lecture, you should expect a validation set accuracy of about 0.89. To meet specifications, the validation set accuracy will need to be at least 0.93. It is possible to get an even higher accuracy, but 0.93 is the minimum for a successful project submission. \n",
    "\n",
    "There are various aspects to consider when thinking about this problem:\n",
    "\n",
    "- Neural network architecture (is the network over or underfitting?)\n",
    "- Play around preprocessing techniques (normalization, rgb to grayscale, etc)\n",
    "- Number of examples per label (some have more than others).\n",
    "- Generate fake data.\n",
    "\n",
    "Here is an example of a [published baseline model on this problem](http://yann.lecun.com/exdb/publis/pdf/sermanet-ijcnn-11.pdf). It's not required to be familiar with the approach used in the paper but, it's good practice to try to read papers like these."
   ]
  },
  {
   "cell_type": "markdown",
   "metadata": {},
   "source": [
    "### Pre-process the Data Set (normalization, grayscale, etc.)"
   ]
  },
  {
   "cell_type": "markdown",
   "metadata": {},
   "source": [
    "Use the code cell (or multiple code cells, if necessary) to implement the first step of your project."
   ]
  },
  {
   "cell_type": "code",
   "execution_count": 4,
   "metadata": {
    "collapsed": false,
    "scrolled": true
   },
   "outputs": [],
   "source": [
    "### Preprocess the data here. Preprocessing steps could include normalization, converting to grayscale, etc.\n",
    "### Feel free to use as many code cells as needed.\n",
    "from sklearn.utils import shuffle\n",
    "from sklearn.model_selection import train_test_split\n",
    "import cv2\n",
    "from skimage import exposure\n",
    "from numpy import array\n",
    "\n",
    "\n",
    "def rotate(image, ang_range):\n",
    "    \"\"\"Rotate the given image to given rotation range\"\"\"\n",
    "    ang_rot = np.random.uniform(ang_range)-ang_range/2\n",
    "    rows,cols,ch = image.shape    \n",
    "    Rot_M = cv2.getRotationMatrix2D((cols/2,rows/2),ang_rot,1)\n",
    "    image = cv2.warpAffine(image,Rot_M,(cols,rows))\n",
    "    return image\n",
    "\n",
    "def translate(image, trans_range):\n",
    "    \"\"\"Translate the given image to given range\"\"\"\n",
    "    rows,cols,ch = image.shape \n",
    "    tr_x = trans_range*np.random.uniform()-trans_range/2\n",
    "    tr_y = trans_range*np.random.uniform()-trans_range/2\n",
    "    Trans_M = np.float32([[1,0,tr_x],[0,1,tr_y]])\n",
    "    image = cv2.warpAffine(image,Trans_M,(cols,rows))\n",
    "    return image\n",
    "\n",
    "def shear(image, shear_range):\n",
    "    \"\"\"Shear the given image to given range\"\"\"\n",
    "    rows,cols,ch = image.shape \n",
    "    pts1 = np.float32([[5,5],[20,5],[5,20]])\n",
    "    pt1 = 5+shear_range*np.random.uniform()-shear_range/2\n",
    "    pt2 = 20+shear_range*np.random.uniform()-shear_range/2\n",
    "    pts2 = np.float32([[pt1,5],[pt2,pt1],[5,pt2]])\n",
    "    shear_M = cv2.getAffineTransform(pts1,pts2)\n",
    "    image = cv2.warpAffine(image,shear_M,(cols,rows))  \n",
    "    return image\n",
    "\n",
    "def all_tfs(image, effect_range):\n",
    "    image = rotate(image, effect_range)\n",
    "    image = translate(image, effect_range)\n",
    "    image = shear(image, effect_range)\n",
    "    return image\n",
    "\n",
    "def augmented_data(data, y_data):\n",
    "    \"Increase the amount of data by applying above transformations\"\n",
    "    X_train_augmented = []\n",
    "    y_train_augmented = []\n",
    "    shape = data.shape\n",
    "    n_classes, counts = np.unique(y_data, return_counts=True)\n",
    "    functions = [rotate, translate, shear, all_tfs]\n",
    "    \n",
    "    for i, img in enumerate(data):\n",
    "        X_train_augmented.append(img)\n",
    "        y_train_augmented.append(y_data[i])\n",
    "\n",
    "        current_data_count = counts[y_data[i]]\n",
    "        if current_data_count < 750:\n",
    "            for j in range(5):\n",
    "                effect_range = randint(5,6)\n",
    "                index = randint(0,3)\n",
    "                X_train_augmented.append(functions[index](img, effect_range))\n",
    "                y_train_augmented.append(y_data[i])\n",
    "        elif current_data_count > 750 and current_data_count < 1250: \n",
    "            for k in range(2):\n",
    "                effect_range = randint(5,6)\n",
    "                index = randint(0,3)\n",
    "                X_train_augmented.append(functions[index](img, effect_range))\n",
    "                y_train_augmented.append(y_data[i])\n",
    "        else: \n",
    "             for k in range(1):\n",
    "                effect_range = randint(5,6)\n",
    "                index = randint(0,3)\n",
    "                X_train_augmented.append(functions[index](img, effect_range))\n",
    "                y_train_augmented.append(y_data[i])\n",
    "                \n",
    "    X = np.reshape(array(X_train_augmented),(len(X_train_augmented), shape[1], shape[2], shape[3]))\n",
    "    Y = array(y_train_augmented)\n",
    "    return X, Y\n",
    "    \n",
    "def preprocess(data):\n",
    "    \"\"\"Convert to grayscale, histogram equalize, and expand dims\"\"\"\n",
    "    imgs = np.ndarray((data.shape[0], 32, 32, 1), dtype=np.float32)\n",
    "    for i, img in enumerate(data):\n",
    "        img = cv2.cvtColor(img, cv2.COLOR_BGR2GRAY)\n",
    "        clahe = cv2.createCLAHE(clipLimit=2, tileGridSize=(4,4))\n",
    "        img = clahe.apply(img)\n",
    "        img = np.expand_dims(img, axis=2)\n",
    "        imgs[i] = img\n",
    "    return imgs\n",
    "    \n",
    "def center_normaize(data):\n",
    "    \"\"\"Center normalize images\"\"\"\n",
    "    mean = np.mean(data)\n",
    "    std = np.std(data)\n",
    "    data = data.astype('float32')\n",
    "    data -= mean\n",
    "    data /= std\n",
    "    return data\n",
    "\n",
    "X_train, y_train = augmented_data(X_train, y_train)\n",
    "X_train = preprocess(X_train)\n",
    "X_train = center_normaize(X_train)\n",
    "X_train, y_train = shuffle(X_train, y_train)"
   ]
  },
  {
   "cell_type": "markdown",
   "metadata": {},
   "source": [
    "## Visualizing preprocessed data"
   ]
  },
  {
   "cell_type": "code",
   "execution_count": 5,
   "metadata": {
    "collapsed": false
   },
   "outputs": [
    {
     "name": "stdout",
     "output_type": "stream",
     "text": [
      "Visualizing some of the image data\n"
     ]
    },
    {
     "data": {
      "image/png": "[encoded data removed]",
      "text/plain": [
       "<matplotlib.figure.Figure at 0x7fb28da9d860>"
      ]
     },
     "metadata": {},
     "output_type": "display_data"
    },
    {
     "name": "stdout",
     "output_type": "stream",
     "text": [
      "Distribution of Training data\n"
     ]
    },
    {
     "data": {
      "image/png": "[encoded data removed]",
      "text/plain": [
       "<matplotlib.figure.Figure at 0x7fb28db9d470>"
      ]
     },
     "metadata": {},
     "output_type": "display_data"
    },
    {
     "name": "stdout",
     "output_type": "stream",
     "text": [
      "*****************\n",
      "Min Count :  1080\n",
      "Max Count :  4140\n",
      "*****************\n"
     ]
    }
   ],
   "source": [
    "# Visualizations will be shown in the notebook.\n",
    "%matplotlib inline\n",
    "print(\"Visualizing some of the image data\")\n",
    "fig = plt.figure(figsize=(6,6))\n",
    "grid = ImageGrid(fig, 111,  # similar to subplot(111)\n",
    "                 nrows_ncols=(3, 3),  # creates 2x2 grid of axes\n",
    "                 axes_pad=0.5,  # pad between axes in inch.\n",
    "                )\n",
    "\n",
    "for i in range(len(random_img_indexes)):\n",
    "    index = random_img_indexes[i]\n",
    "    grid[i].imshow(X_train[index].squeeze(), cmap=\"gray\")  # The AxesGrid object work as a list of axes.\n",
    "    title = signs_name[y_train[index]]\n",
    "    grid[i].set_title(title, fontsize=6)\n",
    "plt.show()\n",
    "\n",
    "n_classes, counts = np.unique(y_train, return_counts=True)\n",
    "\n",
    "print(\"Distribution of Training data\")\n",
    "plt.bar(n_classes, counts)\n",
    "plt.title(\"Number of training data for each class\")\n",
    "plt.xlabel(\"Classes\")\n",
    "plt.ylabel(\"Number of Training examples\")\n",
    "plt.show()\n",
    "\n",
    "print(\"*****************\")\n",
    "print(\"Min Count : \", min(counts))\n",
    "print(\"Max Count : \", max(counts))\n",
    "print(\"*****************\")"
   ]
  },
  {
   "cell_type": "markdown",
   "metadata": {},
   "source": [
    "### Model Architecture"
   ]
  },
  {
   "cell_type": "code",
   "execution_count": 6,
   "metadata": {
    "collapsed": false
   },
   "outputs": [],
   "source": [
    "### Define your architecture here.\n",
    "### Feel free to use as many code cells as needed.\n",
    "import tensorflow as tf\n",
    "\n",
    "EPOCHS = 40\n",
    "BATCH_SIZE = 128\n",
    "\n",
    "from tensorflow.contrib.layers import flatten\n",
    "\n",
    "def LeNet(x):    \n",
    "    # Arguments used for tf.truncated_normal, randomly defines variables for the weights and biases for each layer\n",
    "    mu = 0\n",
    "    sigma = 0.1\n",
    "    \n",
    "    #Layer 1: Convolutional. Input = 32x32x1. Output = 28x28x6.\n",
    "    conv1_W = tf.Variable(tf.truncated_normal(shape=(5, 5, 1, 6), mean = mu, stddev = sigma))\n",
    "    conv1_b = tf.Variable(tf.zeros(6))\n",
    "    conv1   = tf.nn.conv2d(x, conv1_W, strides=[1, 1, 1, 1], padding='VALID') + conv1_b\n",
    "\n",
    "    #Activation.\n",
    "    conv1 = tf.nn.relu(conv1)\n",
    "\n",
    "    #Pooling. Input = 28x28x6. Output = 14x14x6.\n",
    "    conv1 = tf.nn.max_pool(conv1, ksize=[1, 2, 2, 1], strides=[1, 2, 2, 1], padding='VALID')\n",
    "\n",
    "    # Layer 2: Convolutional. Output = 10x10x16.\n",
    "    conv2_W = tf.Variable(tf.truncated_normal(shape=(5, 5, 6, 16), mean = mu, stddev = sigma))\n",
    "    conv2_b = tf.Variable(tf.zeros(16))\n",
    "    conv2   = tf.nn.conv2d(conv1, conv2_W, strides=[1, 1, 1, 1], padding='VALID') + conv2_b\n",
    "    \n",
    "    # Activation.\n",
    "    conv2 = tf.nn.relu(conv2)\n",
    "\n",
    "    # Pooling. Input = 10x10x16. Output = 5x5x16.\n",
    "    conv2 = tf.nn.max_pool(conv2, ksize=[1, 2, 2, 1], strides=[1, 2, 2, 1], padding='VALID')\n",
    "\n",
    "    # Flatten. Input = 5x5x16. Output = 400.\n",
    "    #Also adding flatten values of conv1 to account for lower level features\n",
    "    shape1 = conv1.get_shape().as_list()\n",
    "    conv1 = tf.reshape(conv1, [-1, shape1[1] * shape1[2] * shape1[3]])   \n",
    "    \n",
    "    shape2 = conv2.get_shape().as_list()\n",
    "    conv2 = tf.reshape(conv2, [-1, shape2[1] * shape2[2] * shape2[3]]) \n",
    "    \n",
    "    # fc0   = tf.concat(1, [conv1, conv2])\n",
    "    fc0 = flatten(conv2)\n",
    "    \n",
    "    # Layer 3: Fully Connected. Input = 400. Output = 120.\n",
    "    #flatten(conv1) = 14*14*6 = 1176 + 400 = 1576\n",
    "    \n",
    "    fc1_W = tf.Variable(tf.truncated_normal(shape=(400, 120), mean = mu, stddev = sigma))\n",
    "    fc1_b = tf.Variable(tf.zeros(120))\n",
    "    fc1   = tf.matmul(fc0, fc1_W) + fc1_b\n",
    "    \n",
    "    # Activation.\n",
    "    fc1    = tf.nn.relu(fc1)\n",
    "\n",
    "    #Layer 4: Fully Connected. Input = 120. Output = 84.\n",
    "    fc2_W  = tf.Variable(tf.truncated_normal(shape=(120, 84), mean = mu, stddev = sigma))\n",
    "    fc2_b  = tf.Variable(tf.zeros(84))\n",
    "    fc2    = tf.matmul(fc1, fc2_W) + fc2_b\n",
    "    \n",
    "    #Activation.\n",
    "    fc2    = tf.nn.relu(fc2)\n",
    "\n",
    "    #Layer 5: Fully Connected. Input = 84. Output = 10.\n",
    "    fc3_W  = tf.Variable(tf.truncated_normal(shape=(84, 43), mean = mu, stddev = sigma))\n",
    "    fc3_b  = tf.Variable(tf.zeros(43))\n",
    "    logits = tf.matmul(fc2, fc3_W) + fc3_b\n",
    "    return logits\n",
    "\n",
    "x = tf.placeholder(tf.float32, (None, 32, 32, 1))\n",
    "y = tf.placeholder(tf.int32, (None))\n",
    "one_hot_y = tf.one_hot(y, 43)"
   ]
  },
  {
   "cell_type": "markdown",
   "metadata": {},
   "source": [
    "### Train, Validate and Test the Model"
   ]
  },
  {
   "cell_type": "markdown",
   "metadata": {},
   "source": [
    "A validation set can be used to assess how well the model is performing. A low accuracy on the training and validation\n",
    "sets imply underfitting. A high accuracy on the training set but low accuracy on the validation set implies overfitting."
   ]
  },
  {
   "cell_type": "code",
   "execution_count": 7,
   "metadata": {
    "collapsed": false
   },
   "outputs": [
    {
     "name": "stdout",
     "output_type": "stream",
     "text": [
      "Training...\n",
      "\n",
      "EPOCH 1 ...\n",
      "Validation Accuracy = 0.908\n",
      "\n",
      "EPOCH 2 ...\n",
      "Validation Accuracy = 0.933\n",
      "\n",
      "EPOCH 3 ...\n",
      "Validation Accuracy = 0.934\n",
      "\n",
      "EPOCH 4 ...\n",
      "Validation Accuracy = 0.939\n",
      "\n",
      "EPOCH 5 ...\n",
      "Validation Accuracy = 0.942\n",
      "\n",
      "EPOCH 6 ...\n",
      "Validation Accuracy = 0.940\n",
      "\n",
      "EPOCH 7 ...\n",
      "Validation Accuracy = 0.950\n",
      "\n",
      "EPOCH 8 ...\n",
      "Validation Accuracy = 0.955\n",
      "\n",
      "EPOCH 9 ...\n",
      "Validation Accuracy = 0.954\n",
      "\n",
      "EPOCH 10 ...\n",
      "Validation Accuracy = 0.955\n",
      "\n",
      "EPOCH 11 ...\n",
      "Validation Accuracy = 0.955\n",
      "\n",
      "EPOCH 12 ...\n",
      "Validation Accuracy = 0.953\n",
      "\n",
      "EPOCH 13 ...\n",
      "Validation Accuracy = 0.960\n",
      "\n",
      "EPOCH 14 ...\n",
      "Validation Accuracy = 0.959\n",
      "\n",
      "EPOCH 15 ...\n",
      "Validation Accuracy = 0.959\n",
      "\n",
      "EPOCH 16 ...\n",
      "Validation Accuracy = 0.964\n",
      "\n",
      "EPOCH 17 ...\n",
      "Validation Accuracy = 0.959\n",
      "\n",
      "EPOCH 18 ...\n",
      "Validation Accuracy = 0.959\n",
      "\n",
      "EPOCH 19 ...\n",
      "Validation Accuracy = 0.946\n",
      "\n",
      "EPOCH 20 ...\n",
      "Validation Accuracy = 0.952\n",
      "\n",
      "EPOCH 21 ...\n",
      "Validation Accuracy = 0.963\n",
      "\n",
      "EPOCH 22 ...\n",
      "Validation Accuracy = 0.963\n",
      "\n",
      "EPOCH 23 ...\n",
      "Validation Accuracy = 0.956\n",
      "\n",
      "EPOCH 24 ...\n",
      "Validation Accuracy = 0.963\n",
      "\n",
      "EPOCH 25 ...\n",
      "Validation Accuracy = 0.963\n",
      "\n",
      "EPOCH 26 ...\n",
      "Validation Accuracy = 0.959\n",
      "\n",
      "EPOCH 27 ...\n",
      "Validation Accuracy = 0.959\n",
      "\n",
      "EPOCH 28 ...\n",
      "Validation Accuracy = 0.967\n",
      "\n",
      "EPOCH 29 ...\n",
      "Validation Accuracy = 0.956\n",
      "\n",
      "EPOCH 30 ...\n",
      "Validation Accuracy = 0.963\n",
      "\n",
      "EPOCH 31 ...\n",
      "Validation Accuracy = 0.956\n",
      "\n",
      "EPOCH 32 ...\n",
      "Validation Accuracy = 0.960\n",
      "\n",
      "EPOCH 33 ...\n",
      "Validation Accuracy = 0.963\n",
      "\n",
      "EPOCH 34 ...\n",
      "Validation Accuracy = 0.957\n",
      "\n",
      "EPOCH 35 ...\n",
      "Validation Accuracy = 0.961\n",
      "\n",
      "EPOCH 36 ...\n",
      "Validation Accuracy = 0.967\n",
      "\n",
      "EPOCH 37 ...\n",
      "Validation Accuracy = 0.961\n",
      "\n",
      "EPOCH 38 ...\n",
      "Validation Accuracy = 0.962\n",
      "\n",
      "EPOCH 39 ...\n",
      "Validation Accuracy = 0.963\n",
      "\n",
      "EPOCH 40 ...\n",
      "Validation Accuracy = 0.962\n",
      "\n",
      "Model saved\n"
     ]
    }
   ],
   "source": [
    "### Train your model here.\n",
    "### Calculate and report the accuracy on the training and validation set.\n",
    "### Once a final model architecture is selected, \n",
    "### the accuracy on the test set should be calculated and reported as well.\n",
    "### Feel free to use as many code cells as needed.\n",
    "\n",
    "rate = 0.001\n",
    "\n",
    "logits = LeNet(x)\n",
    "cross_entropy = tf.nn.softmax_cross_entropy_with_logits(logits, one_hot_y)\n",
    "loss_operation = tf.reduce_mean(cross_entropy)\n",
    "optimizer = tf.train.AdamOptimizer(learning_rate = rate)\n",
    "training_operation = optimizer.minimize(loss_operation)\n",
    "\n",
    "correct_prediction = tf.equal(tf.argmax(logits, 1), tf.argmax(one_hot_y, 1))\n",
    "accuracy_operation = tf.reduce_mean(tf.cast(correct_prediction, tf.float32))\n",
    "infer = tf.nn.softmax(logits)\n",
    "top_k_inference = tf.nn.top_k(infer, k=5)\n",
    "\n",
    "def inference(X_data):\n",
    "    sess = tf.get_default_session()\n",
    "    result = sess.run(infer, feed_dict={x : X_data})\n",
    "    top_k = sess.run(top_k_inference, feed_dict={x : X_data} )\n",
    "    return result, top_k\n",
    "\n",
    "def evaluate(X_data, y_data):\n",
    "    X_data = preprocess(X_data)\n",
    "    X_data = center_normaize(X_data)\n",
    "    num_examples = len(X_data)\n",
    "    total_accuracy = 0\n",
    "    sess = tf.get_default_session()\n",
    "    for offset in range(0, num_examples, BATCH_SIZE):\n",
    "        batch_x, batch_y = X_data[offset:offset+BATCH_SIZE], y_data[offset:offset+BATCH_SIZE]\n",
    "        accuracy = sess.run(accuracy_operation, feed_dict={x: batch_x, y: batch_y})\n",
    "        total_accuracy += (accuracy * len(batch_x))\n",
    "    return total_accuracy / num_examples\n",
    "\n",
    "with tf.Session() as sess:\n",
    "    saver = tf.train.Saver()\n",
    "    sess.run(tf.global_variables_initializer())\n",
    "    num_examples = len(X_train)\n",
    "    print(\"Training...\")\n",
    "    print()\n",
    "    for i in range(EPOCHS):\n",
    "        X_train, y_train = shuffle(X_train, y_train)\n",
    "        for offset in range(0, num_examples, BATCH_SIZE):\n",
    "            end = offset + BATCH_SIZE\n",
    "            batch_x, batch_y = X_train[offset:end], y_train[offset:end]\n",
    "            sess.run(training_operation, feed_dict={x: batch_x, y: batch_y})\n",
    "\n",
    "        validation_accuracy = evaluate(X_validation, y_validation)\n",
    "        print(\"EPOCH {} ...\".format(i+1))\n",
    "        print(\"Validation Accuracy = {:.3f}\".format(validation_accuracy))\n",
    "        print()\n",
    "    saver.save(sess, './lenet_traffic')\n",
    "    print(\"Model saved\")"
   ]
  },
  {
   "cell_type": "markdown",
   "metadata": {},
   "source": [
    "---\n",
    "\n",
    "## Step 3: Test a Model on New Images\n",
    "\n",
    "To give yourself more insight into how your model is working, download at least five pictures of German traffic signs from the web and use your model to predict the traffic sign type.\n",
    "\n",
    "You may find `signnames.csv` useful as it contains mappings from the class id (integer) to the actual sign name."
   ]
  },
  {
   "cell_type": "markdown",
   "metadata": {},
   "source": [
    "### Load and Output the Images"
   ]
  },
  {
   "cell_type": "code",
   "execution_count": 8,
   "metadata": {
    "collapsed": false
   },
   "outputs": [
    {
     "name": "stdout",
     "output_type": "stream",
     "text": [
      "Visualizing some of the online collected image data\n"
     ]
    },
    {
     "data": {
      "image/png": "[encoded data removed]",
      "text/plain": [
       "<matplotlib.figure.Figure at 0x7fb28da9d908>"
      ]
     },
     "metadata": {},
     "output_type": "display_data"
    }
   ],
   "source": [
    "### Load the images and plot them here.\n",
    "### Feel free to use as many code cells as needed.\n",
    "\n",
    "import os\n",
    "import numpy as np\n",
    "test_data_path = \"online_test_data\"\n",
    "\n",
    "def load_test_images(path):\n",
    "    original_img = []\n",
    "    processed_imgs = []\n",
    "    img_paths = os.listdir(path)\n",
    "    img_index = []\n",
    "    for img in img_paths:\n",
    "        if not img.endswith(\".png\"):\n",
    "            continue\n",
    "        img_index.append(int(img.split(\".\")[0]))\n",
    "        path = \"%s/%s\" % (test_data_path, img)\n",
    "        org_img = cv2.imread(path)\n",
    "        original_img.append(org_img)\n",
    "        \n",
    "        image = cv2.cvtColor(org_img, cv2.COLOR_BGR2GRAY)\n",
    "        clahe = cv2.createCLAHE(clipLimit=2, tileGridSize=(4,4))\n",
    "        image = clahe.apply(image)\n",
    "        image = np.expand_dims(image, axis=2)\n",
    "        processed_imgs.append(image)\n",
    "    \n",
    "    return np.asarray(original_img), np.asarray(processed_imgs), img_index\n",
    "\n",
    "original_imgs, test_images, img_index = load_test_images(test_data_path)\n",
    "test_images = center_normaize(test_images)\n",
    "\n",
    "%matplotlib inline\n",
    "print(\"Visualizing some of the online collected image data\")\n",
    "fig = plt.figure(figsize=(6,6))\n",
    "grid = ImageGrid(fig, 111,  # similar to subplot(111)\n",
    "                 nrows_ncols=(2, 5),  # creates 2x2 grid of axes\n",
    "                 axes_pad=0.5,  # pad between axes in inch.\n",
    "                )\n",
    "\n",
    "for i in range(len(original_imgs)):\n",
    "    img = original_imgs[i]\n",
    "    grid[i].imshow(np.reshape(img,(32,32,3)).squeeze())  # The AxesGrid object work as a list of axes.\n",
    "    title = signs_name[img_index[i]]\n",
    "    grid[i].set_title(title, fontsize=6)\n",
    "plt.show()   "
   ]
  },
  {
   "cell_type": "markdown",
   "metadata": {},
   "source": [
    "### Predict the Sign Type for Each Image"
   ]
  },
  {
   "cell_type": "code",
   "execution_count": 9,
   "metadata": {
    "collapsed": false
   },
   "outputs": [
    {
     "name": "stdout",
     "output_type": "stream",
     "text": [
      "\n",
      "*******Testing model on test dataset**********\n",
      "\n",
      "Test Accuracy = 0.946\n",
      "\n",
      "**********************************************\n",
      "\n"
     ]
    }
   ],
   "source": [
    "### Run the predictions here and use the model to output the prediction for each image.\n",
    "### Make sure to pre-process the images with the same pre-processing pipeline used earlier.\n",
    "### Feel free to use as many code cells as needed.\n",
    "top_k = None\n",
    "result = None\n",
    "with tf.Session() as session:\n",
    "    new_saver = tf.train.import_meta_graph('./lenet_traffic.meta')\n",
    "    new_saver.restore(session, tf.train.latest_checkpoint('./'))\n",
    "    test_accuracy = evaluate(X_test, y_test)\n",
    "    result, top_k = inference(test_images)\n",
    "print()    \n",
    "print(\"*******Testing model on test dataset**********\")\n",
    "print()\n",
    "print(\"Test Accuracy = {:.3f}\".format(test_accuracy))\n",
    "print()\n",
    "print(\"**********************************************\")\n",
    "print()"
   ]
  },
  {
   "cell_type": "code",
   "execution_count": 10,
   "metadata": {
    "collapsed": false
   },
   "outputs": [
    {
     "name": "stdout",
     "output_type": "stream",
     "text": [
      "\n",
      "************************************************\n",
      "Example :  1\n"
     ]
    },
    {
     "data": {
      "image/png": "[encoded data removed]",
      "text/plain": [
       "<matplotlib.figure.Figure at 0x7fb238b9a2b0>"
      ]
     },
     "metadata": {},
     "output_type": "display_data"
    },
    {
     "name": "stdout",
     "output_type": "stream",
     "text": [
      "True Sign :  Roundabout mandatory\n",
      "Predicted Sign :  Roundabout mandatory\n",
      "Truth Value :  True\n",
      "************************************************\n",
      "\n",
      "\n",
      "************************************************\n",
      "Example :  2\n"
     ]
    },
    {
     "data": {
      "image/png": "[encoded data removed]",
      "text/plain": [
       "<matplotlib.figure.Figure at 0x7fb238dda550>"
      ]
     },
     "metadata": {},
     "output_type": "display_data"
    },
    {
     "name": "stdout",
     "output_type": "stream",
     "text": [
      "True Sign :  Keep right\n",
      "Predicted Sign :  Keep right\n",
      "Truth Value :  True\n",
      "************************************************\n",
      "\n",
      "\n",
      "************************************************\n",
      "Example :  3\n"
     ]
    },
    {
     "data": {
      "image/png": "[encoded data removed]",
      "text/plain": [
       "<matplotlib.figure.Figure at 0x7fb28db232b0>"
      ]
     },
     "metadata": {},
     "output_type": "display_data"
    },
    {
     "name": "stdout",
     "output_type": "stream",
     "text": [
      "True Sign :  Stop\n",
      "Predicted Sign :  Stop\n",
      "Truth Value :  True\n",
      "************************************************\n",
      "\n",
      "\n",
      "************************************************\n",
      "Example :  4\n"
     ]
    },
    {
     "data": {
      "image/png": "[encoded data removed]",
      "text/plain": [
       "<matplotlib.figure.Figure at 0x7fb2968ab4e0>"
      ]
     },
     "metadata": {},
     "output_type": "display_data"
    },
    {
     "name": "stdout",
     "output_type": "stream",
     "text": [
      "True Sign :  Speed limit (20km/h)\n",
      "Predicted Sign :  Speed limit (20km/h)\n",
      "Truth Value :  True\n",
      "************************************************\n",
      "\n",
      "\n",
      "************************************************\n",
      "Example :  5\n"
     ]
    },
    {
     "data": {
      "image/png": "[encoded data removed]",
      "text/plain": [
       "<matplotlib.figure.Figure at 0x7fb264da7d68>"
      ]
     },
     "metadata": {},
     "output_type": "display_data"
    },
    {
     "name": "stdout",
     "output_type": "stream",
     "text": [
      "True Sign :  No entry\n",
      "Predicted Sign :  No entry\n",
      "Truth Value :  True\n",
      "************************************************\n",
      "\n",
      "\n",
      "************************************************\n",
      "Example :  6\n"
     ]
    },
    {
     "data": {
      "image/png": "[encoded data removed]",
      "text/plain": [
       "<matplotlib.figure.Figure at 0x7fb209266898>"
      ]
     },
     "metadata": {},
     "output_type": "display_data"
    },
    {
     "name": "stdout",
     "output_type": "stream",
     "text": [
      "True Sign :  Turn left ahead\n",
      "Predicted Sign :  Turn left ahead\n",
      "Truth Value :  True\n",
      "************************************************\n",
      "\n",
      "\n",
      "************************************************\n",
      "Example :  7\n"
     ]
    },
    {
     "data": {
      "image/png": "[encoded data removed]",
      "text/plain": [
       "<matplotlib.figure.Figure at 0x7fb238da03c8>"
      ]
     },
     "metadata": {},
     "output_type": "display_data"
    },
    {
     "name": "stdout",
     "output_type": "stream",
     "text": [
      "True Sign :  Keep left\n",
      "Predicted Sign :  Keep left\n",
      "Truth Value :  True\n",
      "************************************************\n",
      "\n",
      "\n",
      "************************************************\n",
      "Example :  8\n"
     ]
    },
    {
     "data": {
      "image/png": "[encoded data removed]",
      "text/plain": [
       "<matplotlib.figure.Figure at 0x7fb20854eac8>"
      ]
     },
     "metadata": {},
     "output_type": "display_data"
    },
    {
     "name": "stdout",
     "output_type": "stream",
     "text": [
      "True Sign :  Right-of-way at the next intersection\n",
      "Predicted Sign :  Right-of-way at the next intersection\n",
      "Truth Value :  True\n",
      "************************************************\n",
      "\n",
      "\n",
      "************************************************\n",
      "Example :  9\n"
     ]
    },
    {
     "data": {
      "image/png": "[encoded data removed]",
      "text/plain": [
       "<matplotlib.figure.Figure at 0x7fb28da7d358>"
      ]
     },
     "metadata": {},
     "output_type": "display_data"
    },
    {
     "name": "stdout",
     "output_type": "stream",
     "text": [
      "True Sign :  Yield\n",
      "Predicted Sign :  Yield\n",
      "Truth Value :  True\n",
      "************************************************\n",
      "\n",
      "\n",
      "************************************************\n",
      "Example :  10\n"
     ]
    },
    {
     "data": {
      "image/png": "[encoded data removed]",
      "text/plain": [
       "<matplotlib.figure.Figure at 0x7fb238d5b470>"
      ]
     },
     "metadata": {},
     "output_type": "display_data"
    },
    {
     "name": "stdout",
     "output_type": "stream",
     "text": [
      "True Sign :  Children crossing\n",
      "Predicted Sign :  Road narrows on the right\n",
      "Truth Value :  False\n",
      "************************************************\n",
      "\n"
     ]
    }
   ],
   "source": [
    "\n",
    "predictions = np.argmax(result,axis=1)\n",
    "total_test_img = len(predictions)\n",
    "correct_prediction = 0\n",
    "for i in range(len(predictions)):\n",
    "        true_sign = signs_name[img_index[i]]\n",
    "        pred_sign = signs_name[predictions[i]]\n",
    "        truth_value = true_sign == pred_sign\n",
    "        if truth_value : correct_prediction = correct_prediction + 1\n",
    "        print()\n",
    "        print(\"************************************************\")\n",
    "        print(\"Example : \", i+1)\n",
    "        fig = plt.figure(figsize=(1,1))\n",
    "        img = original_imgs[i]\n",
    "        plt.imshow(np.reshape(img,(32,32,3)).squeeze())\n",
    "        plt.show()\n",
    "        print(\"True Sign : \", true_sign)\n",
    "        print(\"Predicted Sign : \", pred_sign)\n",
    "        print(\"Truth Value : \", truth_value)\n",
    "        print(\"************************************************\")\n",
    "        print()"
   ]
  },
  {
   "cell_type": "markdown",
   "metadata": {},
   "source": [
    "### Analyze Performance"
   ]
  },
  {
   "cell_type": "code",
   "execution_count": 11,
   "metadata": {
    "collapsed": false
   },
   "outputs": [
    {
     "name": "stdout",
     "output_type": "stream",
     "text": [
      "**********************************************\n",
      "Total Number of test Images :  10\n",
      "Total Number of Correct Prediction :  9\n",
      "Total Number of Wrong Prediction :  1\n",
      "Accuracy on these test images :  90.0 %\n",
      "**********************************************\n"
     ]
    }
   ],
   "source": [
    "### Calculate the accuracy for these 5 new images. \n",
    "### For example, if the model predicted 1 out of 5 signs correctly, it's 20% accurate on these new images.\n",
    "print(\"**********************************************\")\n",
    "print(\"Total Number of test Images : \", total_test_img)\n",
    "print(\"Total Number of Correct Prediction : \", correct_prediction)\n",
    "print(\"Total Number of Wrong Prediction : \", total_test_img - correct_prediction)\n",
    "print(\"Accuracy on these test images : \", (correct_prediction * 100.0 )/(total_test_img * 1.0), \"%\")\n",
    "print(\"**********************************************\")"
   ]
  },
  {
   "cell_type": "markdown",
   "metadata": {},
   "source": [
    "### Output Top 5 Softmax Probabilities For Each Image Found on the Web"
   ]
  },
  {
   "cell_type": "markdown",
   "metadata": {},
   "source": [
    "For each of the new images, print out the model's softmax probabilities to show the **certainty** of the model's predictions (limit the output to the top 5 probabilities for each image). [`tf.nn.top_k`](https://www.tensorflow.org/versions/r0.12/api_docs/python/nn.html#top_k) could prove helpful here. \n",
    "\n",
    "The example below demonstrates how tf.nn.top_k can be used to find the top k predictions for each image.\n",
    "\n",
    "`tf.nn.top_k` will return the values and indices (class ids) of the top k predictions. So if k=3, for each sign, it'll return the 3 largest probabilities (out of a possible 43) and the correspoding class ids.\n",
    "\n",
    "Take this numpy array as an example. The values in the array represent predictions. The array contains softmax probabilities for five candidate images with six possible classes. `tk.nn.top_k` is used to choose the three classes with the highest probability:\n",
    "\n",
    "```\n",
    "# (5, 6) array\n",
    "a = np.array([[ 0.24879643,  0.07032244,  0.12641572,  0.34763842,  0.07893497,\n",
    "         0.12789202],\n",
    "       [ 0.28086119,  0.27569815,  0.08594638,  0.0178669 ,  0.18063401,\n",
    "         0.15899337],\n",
    "       [ 0.26076848,  0.23664738,  0.08020603,  0.07001922,  0.1134371 ,\n",
    "         0.23892179],\n",
    "       [ 0.11943333,  0.29198961,  0.02605103,  0.26234032,  0.1351348 ,\n",
    "         0.16505091],\n",
    "       [ 0.09561176,  0.34396535,  0.0643941 ,  0.16240774,  0.24206137,\n",
    "         0.09155967]])\n",
    "```\n",
    "\n",
    "Running it through `sess.run(tf.nn.top_k(tf.constant(a), k=3))` produces:\n",
    "\n",
    "```\n",
    "TopKV2(values=array([[ 0.34763842,  0.24879643,  0.12789202],\n",
    "       [ 0.28086119,  0.27569815,  0.18063401],\n",
    "       [ 0.26076848,  0.23892179,  0.23664738],\n",
    "       [ 0.29198961,  0.26234032,  0.16505091],\n",
    "       [ 0.34396535,  0.24206137,  0.16240774]]), indices=array([[3, 0, 5],\n",
    "       [0, 1, 4],\n",
    "       [0, 5, 1],\n",
    "       [1, 3, 5],\n",
    "       [1, 4, 3]], dtype=int32))\n",
    "```\n",
    "\n",
    "Looking just at the first row we get `[ 0.34763842,  0.24879643,  0.12789202]`, you can confirm these are the 3 largest probabilities in `a`. You'll also notice `[3, 0, 5]` are the corresponding indices."
   ]
  },
  {
   "cell_type": "code",
   "execution_count": 12,
   "metadata": {
    "collapsed": false
   },
   "outputs": [
    {
     "name": "stdout",
     "output_type": "stream",
     "text": [
      "\n"
     ]
    },
    {
     "data": {
      "image/png": "[encoded data removed]",
      "text/plain": [
       "<matplotlib.figure.Figure at 0x7fb26c03eba8>"
      ]
     },
     "metadata": {},
     "output_type": "display_data"
    },
    {
     "name": "stdout",
     "output_type": "stream",
     "text": [
      "True Sign :  Roundabout mandatory\n",
      "Predicted Correctly\n",
      "\n",
      "********** Top predictions **********\n",
      "Roundabout mandatory \t 100.0 %\n",
      "Speed limit (100km/h) \t 5.57537e-07 %\n",
      "Speed limit (70km/h) \t 1.29433e-08 %\n",
      "Speed limit (30km/h) \t 1.56605e-09 %\n",
      "Speed limit (120km/h) \t 5.17582e-12 %\n",
      "\n",
      "\n"
     ]
    },
    {
     "data": {
      "image/png": "[encoded data removed]",
      "text/plain": [
       "<matplotlib.figure.Figure at 0x7fb238de4b00>"
      ]
     },
     "metadata": {},
     "output_type": "display_data"
    },
    {
     "name": "stdout",
     "output_type": "stream",
     "text": [
      "True Sign :  Keep right\n",
      "Predicted Correctly\n",
      "\n",
      "********** Top predictions **********\n",
      "Keep right \t 100.0 %\n",
      "Turn left ahead \t 1.25572e-18 %\n",
      "Yield \t 7.0411e-19 %\n",
      "Priority road \t 1.16969e-19 %\n",
      "Speed limit (30km/h) \t 5.09141e-23 %\n",
      "\n",
      "\n"
     ]
    },
    {
     "data": {
      "image/png": "[encoded data removed]",
      "text/plain": [
       "<matplotlib.figure.Figure at 0x7fb20838d320>"
      ]
     },
     "metadata": {},
     "output_type": "display_data"
    },
    {
     "name": "stdout",
     "output_type": "stream",
     "text": [
      "True Sign :  Stop\n",
      "Predicted Correctly\n",
      "\n",
      "********** Top predictions **********\n",
      "Stop \t 99.9999 %\n",
      "Roundabout mandatory \t 7.47916e-05 %\n",
      "Speed limit (30km/h) \t 6.44143e-09 %\n",
      "No entry \t 6.41821e-09 %\n",
      "Speed limit (50km/h) \t 1.02095e-11 %\n",
      "\n",
      "\n"
     ]
    },
    {
     "data": {
      "image/png": "[encoded data removed]",
      "text/plain": [
       "<matplotlib.figure.Figure at 0x7fb20839dd30>"
      ]
     },
     "metadata": {},
     "output_type": "display_data"
    },
    {
     "name": "stdout",
     "output_type": "stream",
     "text": [
      "True Sign :  Speed limit (20km/h)\n",
      "Predicted Correctly\n",
      "\n",
      "********** Top predictions **********\n",
      "Speed limit (20km/h) \t 100.0 %\n",
      "Speed limit (30km/h) \t 9.77999e-08 %\n",
      "Speed limit (70km/h) \t 2.49931e-11 %\n",
      "Stop \t 4.68837e-16 %\n",
      "End of speed limit (80km/h) \t 5.24447e-20 %\n",
      "\n",
      "\n"
     ]
    },
    {
     "data": {
      "image/png": "[encoded data removed]",
      "text/plain": [
       "<matplotlib.figure.Figure at 0x7fb20833b2e8>"
      ]
     },
     "metadata": {},
     "output_type": "display_data"
    },
    {
     "name": "stdout",
     "output_type": "stream",
     "text": [
      "True Sign :  No entry\n",
      "Predicted Correctly\n",
      "\n",
      "********** Top predictions **********\n",
      "No entry \t 93.492 %\n",
      "Go straight or left \t 6.35885 %\n",
      "No passing \t 0.146018 %\n",
      "Keep right \t 0.00234185 %\n",
      "Roundabout mandatory \t 0.000556547 %\n",
      "\n",
      "\n"
     ]
    },
    {
     "data": {
      "image/png": "[encoded data removed]",
      "text/plain": [
       "<matplotlib.figure.Figure at 0x7fb2083229e8>"
      ]
     },
     "metadata": {},
     "output_type": "display_data"
    },
    {
     "name": "stdout",
     "output_type": "stream",
     "text": [
      "True Sign :  Turn left ahead\n",
      "Predicted Correctly\n",
      "\n",
      "********** Top predictions **********\n",
      "Turn left ahead \t 100.0 %\n",
      "Ahead only \t 1.01785e-09 %\n",
      "Go straight or left \t 4.40454e-11 %\n",
      "No passing \t 7.3967e-13 %\n",
      "Stop \t 1.77557e-13 %\n",
      "\n",
      "\n"
     ]
    },
    {
     "data": {
      "image/png": "[encoded data removed]",
      "text/plain": [
       "<matplotlib.figure.Figure at 0x7fb2082b6cf8>"
      ]
     },
     "metadata": {},
     "output_type": "display_data"
    },
    {
     "name": "stdout",
     "output_type": "stream",
     "text": [
      "True Sign :  Keep left\n",
      "Predicted Correctly\n",
      "\n",
      "********** Top predictions **********\n",
      "Keep left \t 100.0 %\n",
      "Stop \t 2.44938e-18 %\n",
      "Speed limit (80km/h) \t 8.23197e-26 %\n",
      "End of all speed and passing limits \t 6.49687e-26 %\n",
      "Turn right ahead \t 2.55088e-26 %\n",
      "\n",
      "\n"
     ]
    },
    {
     "data": {
      "image/png": "[encoded data removed]",
      "text/plain": [
       "<matplotlib.figure.Figure at 0x7fb2083416a0>"
      ]
     },
     "metadata": {},
     "output_type": "display_data"
    },
    {
     "name": "stdout",
     "output_type": "stream",
     "text": [
      "True Sign :  Right-of-way at the next intersection\n",
      "Predicted Correctly\n",
      "\n",
      "********** Top predictions **********\n",
      "Right-of-way at the next intersection \t 97.345 %\n",
      "Pedestrians \t 2.65496 %\n",
      "Dangerous curve to the right \t 5.03855e-05 %\n",
      "Children crossing \t 8.91088e-06 %\n",
      "Road narrows on the right \t 5.48925e-09 %\n",
      "\n",
      "\n"
     ]
    },
    {
     "data": {
      "image/png": "[encoded data removed]",
      "text/plain": [
       "<matplotlib.figure.Figure at 0x7fb2083a50f0>"
      ]
     },
     "metadata": {},
     "output_type": "display_data"
    },
    {
     "name": "stdout",
     "output_type": "stream",
     "text": [
      "True Sign :  Yield\n",
      "Predicted Correctly\n",
      "\n",
      "********** Top predictions **********\n",
      "Yield \t 100.0 %\n",
      "Speed limit (20km/h) \t 0.0 %\n",
      "Speed limit (30km/h) \t 0.0 %\n",
      "Speed limit (50km/h) \t 0.0 %\n",
      "Speed limit (60km/h) \t 0.0 %\n",
      "\n",
      "\n"
     ]
    },
    {
     "data": {
      "image/png": "[encoded data removed]",
      "text/plain": [
       "<matplotlib.figure.Figure at 0x7fb2083a5160>"
      ]
     },
     "metadata": {},
     "output_type": "display_data"
    },
    {
     "name": "stdout",
     "output_type": "stream",
     "text": [
      "True Sign :  Children crossing\n",
      "Predicted Wrongly\n",
      "\n",
      "********** Top predictions **********\n",
      "Road narrows on the right \t 58.4982 %\n",
      "Pedestrians \t 17.9402 %\n",
      "Road work \t 12.3297 %\n",
      "General caution \t 10.6379 %\n",
      "Children crossing \t 0.592531 %\n",
      "\n"
     ]
    }
   ],
   "source": [
    "### Print out the top five softmax probabilities for the predictions on the German traffic sign images found on the web. \n",
    "### Feel free to use as many code cells as needed.\n",
    "\n",
    "for i in range(len(predictions)):\n",
    "    true_sign = signs_name[img_index[i]]\n",
    "    pred_sign = signs_name[predictions[i]]\n",
    "    truth = true_sign == pred_sign\n",
    "    top_k_pred_sign = [signs_name[j] for j in top_k[1][i]]\n",
    "    top_k_precentage = top_k[0][i] * 100\n",
    "    print()\n",
    "    fig = plt.figure(figsize=(1,1))\n",
    "    img = original_imgs[i]\n",
    "    plt.imshow(np.reshape(img,(32,32,3)).squeeze())\n",
    "    plt.show()\n",
    "    print(\"True Sign : \", true_sign)\n",
    "    if truth : \n",
    "        print(\"Predicted Correctly\")\n",
    "    else:\n",
    "        print(\"Predicted Wrongly\")\n",
    "    print()\n",
    "    print(\"********** Top predictions **********\")\n",
    "    for j in range(5):\n",
    "        print(top_k_pred_sign[j], \"\\t\", top_k_precentage[j], \"%\")\n",
    "    print()\n",
    "    \n"
   ]
  },
  {
   "cell_type": "markdown",
   "metadata": {},
   "source": [
    "## Confusion Matrix "
   ]
  },
  {
   "cell_type": "code",
   "execution_count": 13,
   "metadata": {
    "collapsed": false
   },
   "outputs": [
    {
     "name": "stdout",
     "output_type": "stream",
     "text": [
      "True\n"
     ]
    }
   ],
   "source": [
    "#Get the predictions using training set\n",
    "y_pred = None \n",
    "with tf.Session() as session:\n",
    "    new_saver = tf.train.import_meta_graph('./lenet_traffic.meta')\n",
    "    new_saver.restore(session, tf.train.latest_checkpoint('./'))\n",
    "    y_pred , _ = inference(X_train)\n",
    "    \n",
    "y_pred = np.argmax(y_pred,axis=1)     \n",
    "print(len(y_pred) == len(y_train))"
   ]
  },
  {
   "cell_type": "code",
   "execution_count": 14,
   "metadata": {
    "collapsed": false
   },
   "outputs": [
    {
     "data": {
      "text/plain": [
       "<matplotlib.figure.Figure at 0x7fb20925be48>"
      ]
     },
     "metadata": {},
     "output_type": "display_data"
    },
    {
     "data": {
      "image/png": "[encoded data removed]",
      "text/plain": [
       "<matplotlib.figure.Figure at 0x7fb2b324e080>"
      ]
     },
     "metadata": {},
     "output_type": "display_data"
    },
    {
     "name": "stdout",
     "output_type": "stream",
     "text": [
      "             precision    recall  f1-score   support\n",
      "\n",
      "          0       0.99      1.00      0.99      1080\n",
      "          1       1.00      1.00      1.00      3960\n",
      "          2       1.00      1.00      1.00      4020\n",
      "          3       1.00      1.00      1.00      2520\n",
      "          4       1.00      1.00      1.00      3540\n",
      "          5       1.00      0.99      0.99      3300\n",
      "          6       1.00      1.00      1.00      2160\n",
      "          7       1.00      1.00      1.00      2580\n",
      "          8       0.99      1.00      0.99      2520\n",
      "          9       1.00      1.00      1.00      2640\n",
      "         10       1.00      1.00      1.00      3600\n",
      "         11       0.99      1.00      1.00      3510\n",
      "         12       1.00      1.00      1.00      3780\n",
      "         13       1.00      1.00      1.00      3840\n",
      "         14       1.00      1.00      1.00      4140\n",
      "         15       1.00      1.00      1.00      3240\n",
      "         16       1.00      0.99      1.00      2160\n",
      "         17       1.00      1.00      1.00      2970\n",
      "         18       0.98      1.00      0.99      3240\n",
      "         19       1.00      1.00      1.00      1080\n",
      "         20       1.00      0.99      1.00      1800\n",
      "         21       1.00      0.99      1.00      1620\n",
      "         22       1.00      1.00      1.00      1980\n",
      "         23       1.00      1.00      1.00      2700\n",
      "         24       0.98      1.00      0.99      1440\n",
      "         25       1.00      1.00      1.00      2700\n",
      "         26       1.00      0.99      1.00      3240\n",
      "         27       1.00      0.97      0.98      1260\n",
      "         28       1.00      0.99      0.99      2880\n",
      "         29       1.00      0.99      1.00      1440\n",
      "         30       1.00      0.99      0.99      2340\n",
      "         31       1.00      1.00      1.00      4140\n",
      "         32       1.00      1.00      1.00      1260\n",
      "         33       1.00      1.00      1.00      3594\n",
      "         34       1.00      1.00      1.00      2160\n",
      "         35       1.00      1.00      1.00      3240\n",
      "         36       1.00      1.00      1.00      1980\n",
      "         37       1.00      1.00      1.00      1080\n",
      "         38       1.00      1.00      1.00      3720\n",
      "         39       1.00      1.00      1.00      1620\n",
      "         40       1.00      1.00      1.00      1800\n",
      "         41       1.00      1.00      1.00      1260\n",
      "         42       1.00      1.00      1.00      1260\n",
      "\n",
      "avg / total       1.00      1.00      1.00    110394\n",
      "\n"
     ]
    }
   ],
   "source": [
    "from sklearn.metrics import confusion_matrix\n",
    "import itertools\n",
    "from sklearn.metrics import classification_report\n",
    "\n",
    "conf_arr = confusion_matrix(y_train, y_pred)\n",
    "fig = plt.figure(figsize=(50,50))\n",
    "plt.matshow(conf_arr)\n",
    "plt.colorbar()\n",
    "plt.show()\n",
    "\n",
    "print(classification_report(y_train, y_pred))"
   ]
  },
  {
   "cell_type": "markdown",
   "metadata": {},
   "source": [
    "---\n",
    "\n",
    "## Step 4: Visualize the Neural Network's State with Test Images\n",
    "\n",
    " This Section is not required to complete but acts as an additional excersise for understaning the output of a neural network's weights. While neural networks can be a great learning device they are often referred to as a black box. We can understand what the weights of a neural network look like better by plotting their feature maps. After successfully training your neural network you can see what it's feature maps look like by plotting the output of the network's weight layers in response to a test stimuli image. From these plotted feature maps, it's possible to see what characteristics of an image the network finds interesting. For a sign, maybe the inner network feature maps react with high activation to the sign's boundary outline or to the contrast in the sign's painted symbol.\n",
    "\n",
    " Provided for you below is the function code that allows you to get the visualization output of any tensorflow weight layer you want. The inputs to the function should be a stimuli image, one used during training or a new one you provided, and then the tensorflow variable name that represents the layer's state during the training process, for instance if you wanted to see what the [LeNet lab's](https://classroom.udacity.com/nanodegrees/nd013/parts/fbf77062-5703-404e-b60c-95b78b2f3f9e/modules/6df7ae49-c61c-4bb2-a23e-6527e69209ec/lessons/601ae704-1035-4287-8b11-e2c2716217ad/concepts/d4aca031-508f-4e0b-b493-e7b706120f81) feature maps looked like for it's second convolutional layer you could enter conv2 as the tf_activation variable.\n",
    "\n",
    "For an example of what feature map outputs look like, check out NVIDIA's results in their paper [End-to-End Deep Learning for Self-Driving Cars](https://devblogs.nvidia.com/parallelforall/deep-learning-self-driving-cars/) in the section Visualization of internal CNN State. NVIDIA was able to show that their network's inner weights had high activations to road boundary lines by comparing feature maps from an image with a clear path to one without. Try experimenting with a similar test to show that your trained network's weights are looking for interesting features, whether it's looking at differences in feature maps from images with or without a sign, or even what feature maps look like in a trained network vs a completely untrained one on the same sign image.\n",
    "\n",
    "<figure>\n",
    " <img src=\"visualize_cnn.png\" width=\"380\" alt=\"Combined Image\" />\n",
    " <figcaption>\n",
    " <p></p> \n",
    " <p style=\"text-align: center;\"> Your output should look something like this (above)</p> \n",
    " </figcaption>\n",
    "</figure>\n",
    " <p></p> \n"
   ]
  },
  {
   "cell_type": "code",
   "execution_count": null,
   "metadata": {
    "collapsed": true
   },
   "outputs": [],
   "source": [
    "### Visualize your network's feature maps here.\n",
    "### Feel free to use as many code cells as needed.\n",
    "\n",
    "# image_input: the test image being fed into the network to produce the feature maps\n",
    "# tf_activation: should be a tf variable name used during your training procedure that represents the calculated state of a specific weight layer\n",
    "# activation_min/max: can be used to view the activation contrast in more detail, by default matplot sets min and max to the actual min and max values of the output\n",
    "# plt_num: used to plot out multiple different weight feature map sets on the same block, just extend the plt number for each new feature map entry\n",
    "\n",
    "def outputFeatureMap(image_input, tf_activation, activation_min=-1, activation_max=-1 ,plt_num=1):\n",
    "    # Here make sure to preprocess your image_input in a way your network expects\n",
    "    # with size, normalization, ect if needed\n",
    "    # image_input =\n",
    "    # Note: x should be the same name as your network's tensorflow data placeholder variable\n",
    "    # If you get an error tf_activation is not defined it maybe having trouble accessing the variable from inside a function\n",
    "    activation = tf_activation.eval(session=sess,feed_dict={x : image_input})\n",
    "    featuremaps = activation.shape[3]\n",
    "    plt.figure(plt_num, figsize=(15,15))\n",
    "    for featuremap in range(featuremaps):\n",
    "        plt.subplot(6,8, featuremap+1) # sets the number of feature maps to show on each row and column\n",
    "        plt.title('FeatureMap ' + str(featuremap)) # displays the feature map number\n",
    "        if activation_min != -1 & activation_max != -1:\n",
    "            plt.imshow(activation[0,:,:, featuremap], interpolation=\"nearest\", vmin =activation_min, vmax=activation_max, cmap=\"gray\")\n",
    "        elif activation_max != -1:\n",
    "            plt.imshow(activation[0,:,:, featuremap], interpolation=\"nearest\", vmax=activation_max, cmap=\"gray\")\n",
    "        elif activation_min !=-1:\n",
    "            plt.imshow(activation[0,:,:, featuremap], interpolation=\"nearest\", vmin=activation_min, cmap=\"gray\")\n",
    "        else:\n",
    "            plt.imshow(activation[0,:,:, featuremap], interpolation=\"nearest\", cmap=\"gray\")"
   ]
  },
  {
   "cell_type": "markdown",
   "metadata": {},
   "source": [
    "### Question 9\n",
    "\n",
    "Discuss how you used the visual output of your trained network's feature maps to show that it had learned to look for interesting characteristics in traffic sign images\n"
   ]
  },
  {
   "cell_type": "markdown",
   "metadata": {},
   "source": [
    "**Answer:**"
   ]
  },
  {
   "cell_type": "markdown",
   "metadata": {},
   "source": [
    "> **Note**: Once you have completed all of the code implementations and successfully answered each question above, you may finalize your work by exporting the iPython Notebook as an HTML document. You can do this by using the menu above and navigating to  \\n\",\n",
    "    \"**File -> Download as -> HTML (.html)**. Include the finished document along with this notebook as your submission."
   ]
  },
  {
   "cell_type": "markdown",
   "metadata": {},
   "source": [
    "### Project Writeup\n",
    "\n",
    "Once you have completed the code implementation, document your results in a project writeup using this [template](https://github.com/udacity/CarND-Traffic-Sign-Classifier-Project/blob/master/writeup_template.md) as a guide. The writeup can be in a markdown or pdf file. "
   ]
  }
 ],
 "metadata": {
  "anaconda-cloud": {},
  "kernelspec": {
   "display_name": "Python 3",
   "language": "python",
   "name": "python3"
  },
  "language_info": {
   "codemirror_mode": {
    "name": "ipython",
    "version": 3
   },
   "file_extension": ".py",
   "mimetype": "text/x-python",
   "name": "python",
   "nbconvert_exporter": "python",
   "pygments_lexer": "ipython3",
   "version": "3.5.2"
  },
  "widgets": {
   "state": {},
   "version": "1.1.2"
  }
 },
 "nbformat": 4,
 "nbformat_minor": 1
}
